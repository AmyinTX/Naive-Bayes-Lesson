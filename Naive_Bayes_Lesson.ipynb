{
 "cells": [
  {
   "cell_type": "markdown",
   "metadata": {},
   "source": [
    "# Naive Bayes Classification"
   ]
  },
  {
   "cell_type": "markdown",
   "metadata": {},
   "source": [
    "### The purpose of this exercise is to build a classifer of gender, given data about actual and ideal weights. "
   ]
  },
  {
   "cell_type": "code",
   "execution_count": 1,
   "metadata": {
    "collapsed": true
   },
   "outputs": [],
   "source": [
    "#%% import packages\n",
    "import pandas as pd\n",
    "import matplotlib.pyplot as plt\n",
    "import numpy as np\n",
    "from collections import Counter\n",
    "from sklearn.naive_bayes import GaussianNB\n",
    "from sklearn import metrics\n",
    "%matplotlib inline"
   ]
  },
  {
   "cell_type": "code",
   "execution_count": 2,
   "metadata": {
    "collapsed": true
   },
   "outputs": [],
   "source": [
    "#%% read in data\n",
    "df = pd.read_csv('/Users/amybrown/Thinkful/Unit_4/Lesson_3/curric-data-001-data-sets/ideal-weight/ideal_weight.csv')"
   ]
  },
  {
   "cell_type": "code",
   "execution_count": 4,
   "metadata": {
    "collapsed": true
   },
   "outputs": [],
   "source": [
    "#%% clean data\n",
    "df.columns = [c_name.replace(\"'\", '') for c_name in df.columns.values.tolist()] \n",
    "df['sex'] = df['sex'].str.replace(\"'\", '') # remove quotes from values in sex column"
   ]
  },
  {
   "cell_type": "markdown",
   "metadata": {},
   "source": [
    "### The plot below shows the distributions of actual and ideal weights. "
   ]
  },
  {
   "cell_type": "code",
   "execution_count": 5,
   "metadata": {
    "collapsed": false
   },
   "outputs": [
    {
     "data": {
      "image/png": "[encoded data removed]",
      "text/plain": [
       "<matplotlib.figure.Figure at 0x116d26710>"
      ]
     },
     "metadata": {},
     "output_type": "display_data"
    }
   ],
   "source": [
    "#%% plot actual v ideal weights\n",
    "actual = df['actual']\n",
    "ideal = df['ideal']\n",
    "\n",
    "# may want to mess with binning, etc. \n",
    "plt.hist(actual, alpha=0.5, label='Actual', bins=20)\n",
    "plt.hist(ideal,  alpha=0.5, label='Ideal', bins=20)\n",
    "plt.legend(loc='upper right')\n",
    "plt.show()"
   ]
  },
  {
   "cell_type": "markdown",
   "metadata": {},
   "source": [
    "### This plot shows the difference in the difference between actual and ideal weights. "
   ]
  },
  {
   "cell_type": "code",
   "execution_count": 6,
   "metadata": {
    "collapsed": false
   },
   "outputs": [
    {
     "data": {
      "image/png": "[encoded data removed]",
      "text/plain": [
       "<matplotlib.figure.Figure at 0x1192bc9e8>"
      ]
     },
     "metadata": {},
     "output_type": "display_data"
    }
   ],
   "source": [
    "#%% plot diff var\n",
    "diff = df['diff']\n",
    "plt.hist(diff, alpha=0.5, bins=20)\n",
    "plt.show()"
   ]
  },
  {
   "cell_type": "code",
   "execution_count": 7,
   "metadata": {
    "collapsed": true
   },
   "outputs": [],
   "source": [
    "#%% map sex to a categorical variable\n",
    "df_dummy = pd.get_dummies(df['sex'])\n",
    "df = pd.concat([df, df_dummy], axis=1) #note: only use either Female or Male in analysis"
   ]
  },
  {
   "cell_type": "code",
   "execution_count": 8,
   "metadata": {
    "collapsed": false
   },
   "outputs": [
    {
     "name": "stdout",
     "output_type": "stream",
     "text": [
      "Counter({'Female': 119, 'Male': 63})\n"
     ]
    }
   ],
   "source": [
    "#%% are there more males or females in the dataset?\n",
    "freq = print(Counter(df['sex']))\n",
    "# there are 56 more females in the dataset than males"
   ]
  },
  {
   "cell_type": "markdown",
   "metadata": {},
   "source": [
    "### There are 63 males in the dataset, and 56 more females than males. "
   ]
  },
  {
   "cell_type": "code",
   "execution_count": 9,
   "metadata": {
    "collapsed": true
   },
   "outputs": [],
   "source": [
    "#%% split data into outcome and predictors\n",
    "final_df = df[['actual', 'ideal', 'diff']]\n",
    "class_df = df[['Male']] # remember during interpretation that this means Male = 1 and Female = 0"
   ]
  },
  {
   "cell_type": "code",
   "execution_count": 10,
   "metadata": {
    "collapsed": false
   },
   "outputs": [
    {
     "name": "stdout",
     "output_type": "stream",
     "text": [
      "GaussianNB()\n",
      "             precision    recall  f1-score   support\n",
      "\n",
      "        0.0       0.94      0.94      0.94       119\n",
      "        1.0       0.89      0.89      0.89        63\n",
      "\n",
      "avg / total       0.92      0.92      0.92       182\n",
      "\n",
      "[[112   7]\n",
      " [  7  56]]\n"
     ]
    }
   ],
   "source": [
    "model = GaussianNB()\n",
    "model.fit(final_df, class_df.values.ravel())\n",
    "print(model)\n",
    "expected = class_df.values.ravel()\n",
    "predicted = model.predict(final_df)\n",
    "\n",
    "print(metrics.classification_report(expected, predicted))\n",
    "print(metrics.confusion_matrix(expected, predicted))"
   ]
  },
  {
   "cell_type": "code",
   "execution_count": 11,
   "metadata": {
    "collapsed": false
   },
   "outputs": [
    {
     "name": "stdout",
     "output_type": "stream",
     "text": [
      "Counter({True: 168, False: 14})\n"
     ]
    }
   ],
   "source": [
    "#%% check fit\n",
    "(expected==predicted).all() # checks whether the arrays are equivalent, which they are not\n",
    "check = np.equal(expected, predicted)\n",
    "mislabled = print(Counter(check)) # 14 points were mislabeled"
   ]
  },
  {
   "cell_type": "markdown",
   "metadata": {},
   "source": [
    "### The classifier mislabled 14 data points. "
   ]
  },
  {
   "cell_type": "code",
   "execution_count": 14,
   "metadata": {
    "collapsed": false
   },
   "outputs": [
    {
     "name": "stdout",
     "output_type": "stream",
     "text": [
      "[ 1.]\n"
     ]
    }
   ],
   "source": [
    "#%% predict \n",
    "print(model.predict([[145, 160, -15]])) # what gender?"
   ]
  },
  {
   "cell_type": "markdown",
   "metadata": {},
   "source": [
    "### A datapoint with an actual weight of 145 and an ideal weight of 160 (with a difference of 15 lbs) is classified as male by the Naive Bayes model."
   ]
  },
  {
   "cell_type": "code",
   "execution_count": null,
   "metadata": {
    "collapsed": true
   },
   "outputs": [],
   "source": [
    "print(model.predict([[160, 145, 15]])) # what gender?"
   ]
  },
  {
   "cell_type": "markdown",
   "metadata": {},
   "source": [
    "### A datapoint with an actual weight of 160 and an ideal weight of 145 (with a difference of 15 lbs) is classified as female by the Naive Bayes model. "
   ]
  },
  {
   "cell_type": "code",
   "execution_count": null,
   "metadata": {
    "collapsed": true
   },
   "outputs": [],
   "source": []
  }
 ],
 "metadata": {
  "kernelspec": {
   "display_name": "Python [Root]",
   "language": "python",
   "name": "Python [Root]"
  },
  "language_info": {
   "codemirror_mode": {
    "name": "ipython",
    "version": 3
   },
   "file_extension": ".py",
   "mimetype": "text/x-python",
   "name": "python",
   "nbconvert_exporter": "python",
   "pygments_lexer": "ipython3",
   "version": "3.5.2"
  }
 },
 "nbformat": 4,
 "nbformat_minor": 0
}
